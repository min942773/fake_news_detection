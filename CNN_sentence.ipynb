{
 "cells": [
  {
   "cell_type": "markdown",
   "metadata": {},
   "source": [
    "## IMPORT & DATA LOAD"
   ]
  },
  {
   "cell_type": "code",
   "execution_count": 104,
   "metadata": {},
   "outputs": [],
   "source": [
    "import re\n",
    "import tensorflow\n",
    "import numpy as np\n",
    "import pandas as pd\n",
    "import matplotlib.pyplot as plt\n",
    "\n",
    "from nltk.corpus import stopwords\n",
    "from tensorflow.keras import Input\n",
    "from nltk.stem import PorterStemmer\n",
    "from tensorflow.keras.models import Model\n",
    "from tensorflow.keras.layers import Dense\n",
    "from tensorflow.keras.layers import Conv1D\n",
    "from tensorflow.keras.layers import Flatten\n",
    "from keras.utils.vis_utils import plot_model\n",
    "from tensorflow.keras.regularizers import l2\n",
    "from tensorflow.keras.activations import elu\n",
    "from tensorflow.keras.layers import MaxPool1D\n",
    "from tensorflow.keras.layers import Embedding\n",
    "from tensorflow.keras.models import Sequential\n",
    "from tensorflow.keras.layers import Concatenate\n",
    "from sklearn.model_selection import train_test_split\n",
    "from tensorflow.keras.preprocessing.text import Tokenizer\n",
    "from tensorflow.keras.preprocessing.sequence import pad_sequences"
   ]
  },
  {
   "cell_type": "code",
   "execution_count": 2,
   "metadata": {},
   "outputs": [],
   "source": [
    "train = pd.read_csv('data/fake-news/train.csv')"
   ]
  },
  {
   "cell_type": "code",
   "execution_count": 3,
   "metadata": {},
   "outputs": [
    {
     "data": {
      "text/html": [
       "<div>\n",
       "<style scoped>\n",
       "    .dataframe tbody tr th:only-of-type {\n",
       "        vertical-align: middle;\n",
       "    }\n",
       "\n",
       "    .dataframe tbody tr th {\n",
       "        vertical-align: top;\n",
       "    }\n",
       "\n",
       "    .dataframe thead th {\n",
       "        text-align: right;\n",
       "    }\n",
       "</style>\n",
       "<table border=\"1\" class=\"dataframe\">\n",
       "  <thead>\n",
       "    <tr style=\"text-align: right;\">\n",
       "      <th></th>\n",
       "      <th>id</th>\n",
       "      <th>title</th>\n",
       "      <th>author</th>\n",
       "      <th>text</th>\n",
       "      <th>label</th>\n",
       "    </tr>\n",
       "  </thead>\n",
       "  <tbody>\n",
       "    <tr>\n",
       "      <th>0</th>\n",
       "      <td>0</td>\n",
       "      <td>House Dem Aide: We Didn’t Even See Comey’s Let...</td>\n",
       "      <td>Darrell Lucus</td>\n",
       "      <td>House Dem Aide: We Didn’t Even See Comey’s Let...</td>\n",
       "      <td>1</td>\n",
       "    </tr>\n",
       "    <tr>\n",
       "      <th>1</th>\n",
       "      <td>1</td>\n",
       "      <td>FLYNN: Hillary Clinton, Big Woman on Campus - ...</td>\n",
       "      <td>Daniel J. Flynn</td>\n",
       "      <td>Ever get the feeling your life circles the rou...</td>\n",
       "      <td>0</td>\n",
       "    </tr>\n",
       "    <tr>\n",
       "      <th>2</th>\n",
       "      <td>2</td>\n",
       "      <td>Why the Truth Might Get You Fired</td>\n",
       "      <td>Consortiumnews.com</td>\n",
       "      <td>Why the Truth Might Get You Fired October 29, ...</td>\n",
       "      <td>1</td>\n",
       "    </tr>\n",
       "    <tr>\n",
       "      <th>3</th>\n",
       "      <td>3</td>\n",
       "      <td>15 Civilians Killed In Single US Airstrike Hav...</td>\n",
       "      <td>Jessica Purkiss</td>\n",
       "      <td>Videos 15 Civilians Killed In Single US Airstr...</td>\n",
       "      <td>1</td>\n",
       "    </tr>\n",
       "    <tr>\n",
       "      <th>4</th>\n",
       "      <td>4</td>\n",
       "      <td>Iranian woman jailed for fictional unpublished...</td>\n",
       "      <td>Howard Portnoy</td>\n",
       "      <td>Print \\nAn Iranian woman has been sentenced to...</td>\n",
       "      <td>1</td>\n",
       "    </tr>\n",
       "  </tbody>\n",
       "</table>\n",
       "</div>"
      ],
      "text/plain": [
       "   id                                              title              author  \\\n",
       "0   0  House Dem Aide: We Didn’t Even See Comey’s Let...       Darrell Lucus   \n",
       "1   1  FLYNN: Hillary Clinton, Big Woman on Campus - ...     Daniel J. Flynn   \n",
       "2   2                  Why the Truth Might Get You Fired  Consortiumnews.com   \n",
       "3   3  15 Civilians Killed In Single US Airstrike Hav...     Jessica Purkiss   \n",
       "4   4  Iranian woman jailed for fictional unpublished...      Howard Portnoy   \n",
       "\n",
       "                                                text  label  \n",
       "0  House Dem Aide: We Didn’t Even See Comey’s Let...      1  \n",
       "1  Ever get the feeling your life circles the rou...      0  \n",
       "2  Why the Truth Might Get You Fired October 29, ...      1  \n",
       "3  Videos 15 Civilians Killed In Single US Airstr...      1  \n",
       "4  Print \\nAn Iranian woman has been sentenced to...      1  "
      ]
     },
     "execution_count": 3,
     "metadata": {},
     "output_type": "execute_result"
    }
   ],
   "source": [
    "train.head()"
   ]
  },
  {
   "cell_type": "code",
   "execution_count": 4,
   "metadata": {},
   "outputs": [],
   "source": [
    "test = pd.read_csv('data/fake-news/test.csv')"
   ]
  },
  {
   "cell_type": "code",
   "execution_count": 5,
   "metadata": {},
   "outputs": [
    {
     "data": {
      "text/html": [
       "<div>\n",
       "<style scoped>\n",
       "    .dataframe tbody tr th:only-of-type {\n",
       "        vertical-align: middle;\n",
       "    }\n",
       "\n",
       "    .dataframe tbody tr th {\n",
       "        vertical-align: top;\n",
       "    }\n",
       "\n",
       "    .dataframe thead th {\n",
       "        text-align: right;\n",
       "    }\n",
       "</style>\n",
       "<table border=\"1\" class=\"dataframe\">\n",
       "  <thead>\n",
       "    <tr style=\"text-align: right;\">\n",
       "      <th></th>\n",
       "      <th>id</th>\n",
       "      <th>title</th>\n",
       "      <th>author</th>\n",
       "      <th>text</th>\n",
       "    </tr>\n",
       "  </thead>\n",
       "  <tbody>\n",
       "    <tr>\n",
       "      <th>0</th>\n",
       "      <td>20800</td>\n",
       "      <td>Specter of Trump Loosens Tongues, if Not Purse...</td>\n",
       "      <td>David Streitfeld</td>\n",
       "      <td>PALO ALTO, Calif.  —   After years of scorning...</td>\n",
       "    </tr>\n",
       "    <tr>\n",
       "      <th>1</th>\n",
       "      <td>20801</td>\n",
       "      <td>Russian warships ready to strike terrorists ne...</td>\n",
       "      <td>NaN</td>\n",
       "      <td>Russian warships ready to strike terrorists ne...</td>\n",
       "    </tr>\n",
       "    <tr>\n",
       "      <th>2</th>\n",
       "      <td>20802</td>\n",
       "      <td>#NoDAPL: Native American Leaders Vow to Stay A...</td>\n",
       "      <td>Common Dreams</td>\n",
       "      <td>Videos #NoDAPL: Native American Leaders Vow to...</td>\n",
       "    </tr>\n",
       "    <tr>\n",
       "      <th>3</th>\n",
       "      <td>20803</td>\n",
       "      <td>Tim Tebow Will Attempt Another Comeback, This ...</td>\n",
       "      <td>Daniel Victor</td>\n",
       "      <td>If at first you don’t succeed, try a different...</td>\n",
       "    </tr>\n",
       "    <tr>\n",
       "      <th>4</th>\n",
       "      <td>20804</td>\n",
       "      <td>Keiser Report: Meme Wars (E995)</td>\n",
       "      <td>Truth Broadcast Network</td>\n",
       "      <td>42 mins ago 1 Views 0 Comments 0 Likes 'For th...</td>\n",
       "    </tr>\n",
       "  </tbody>\n",
       "</table>\n",
       "</div>"
      ],
      "text/plain": [
       "      id                                              title  \\\n",
       "0  20800  Specter of Trump Loosens Tongues, if Not Purse...   \n",
       "1  20801  Russian warships ready to strike terrorists ne...   \n",
       "2  20802  #NoDAPL: Native American Leaders Vow to Stay A...   \n",
       "3  20803  Tim Tebow Will Attempt Another Comeback, This ...   \n",
       "4  20804                    Keiser Report: Meme Wars (E995)   \n",
       "\n",
       "                    author                                               text  \n",
       "0         David Streitfeld  PALO ALTO, Calif.  —   After years of scorning...  \n",
       "1                      NaN  Russian warships ready to strike terrorists ne...  \n",
       "2            Common Dreams  Videos #NoDAPL: Native American Leaders Vow to...  \n",
       "3            Daniel Victor  If at first you don’t succeed, try a different...  \n",
       "4  Truth Broadcast Network  42 mins ago 1 Views 0 Comments 0 Likes 'For th...  "
      ]
     },
     "execution_count": 5,
     "metadata": {},
     "output_type": "execute_result"
    }
   ],
   "source": [
    "test.head()"
   ]
  },
  {
   "cell_type": "code",
   "execution_count": 6,
   "metadata": {
    "scrolled": true
   },
   "outputs": [
    {
     "name": "stdout",
     "output_type": "stream",
     "text": [
      "train 개수 : 20800\n"
     ]
    }
   ],
   "source": [
    "print(\"train 개수 :\", len(train))"
   ]
  },
  {
   "cell_type": "code",
   "execution_count": 7,
   "metadata": {},
   "outputs": [
    {
     "name": "stdout",
     "output_type": "stream",
     "text": [
      "test 개수 : 5200\n"
     ]
    }
   ],
   "source": [
    "print(\"test 개수 :\", len(test))"
   ]
  },
  {
   "cell_type": "code",
   "execution_count": 8,
   "metadata": {},
   "outputs": [
    {
     "data": {
      "text/plain": [
       "<matplotlib.axes._subplots.AxesSubplot at 0x2190ee9ee88>"
      ]
     },
     "execution_count": 8,
     "metadata": {},
     "output_type": "execute_result"
    },
    {
     "data": {
      "image/png": "[encoded data removed]",
      "text/plain": [
       "<Figure size 432x288 with 1 Axes>"
      ]
     },
     "metadata": {
      "needs_background": "light"
     },
     "output_type": "display_data"
    }
   ],
   "source": [
    "train['label'].value_counts().plot(kind='bar')"
   ]
  },
  {
   "cell_type": "code",
   "execution_count": 9,
   "metadata": {},
   "outputs": [
    {
     "data": {
      "text/plain": [
       "True"
      ]
     },
     "execution_count": 9,
     "metadata": {},
     "output_type": "execute_result"
    }
   ],
   "source": [
    "train.isnull().values.any()"
   ]
  },
  {
   "cell_type": "code",
   "execution_count": 10,
   "metadata": {},
   "outputs": [
    {
     "data": {
      "text/plain": [
       "id           0\n",
       "title      558\n",
       "author    1957\n",
       "text        39\n",
       "label        0\n",
       "dtype: int64"
      ]
     },
     "execution_count": 10,
     "metadata": {},
     "output_type": "execute_result"
    }
   ],
   "source": [
    "train.isnull().sum()"
   ]
  },
  {
   "cell_type": "code",
   "execution_count": 11,
   "metadata": {},
   "outputs": [
    {
     "data": {
      "text/plain": [
       "id          0\n",
       "title     122\n",
       "author    503\n",
       "text        7\n",
       "dtype: int64"
      ]
     },
     "execution_count": 11,
     "metadata": {},
     "output_type": "execute_result"
    }
   ],
   "source": [
    "test.isnull().sum()"
   ]
  },
  {
   "cell_type": "code",
   "execution_count": 12,
   "metadata": {},
   "outputs": [],
   "source": [
    "train = train.fillna('NA')\n",
    "test = test.fillna('NA')"
   ]
  },
  {
   "cell_type": "markdown",
   "metadata": {},
   "source": [
    "## DATASET PREPROCESSING"
   ]
  },
  {
   "cell_type": "markdown",
   "metadata": {},
   "source": [
    "#### 1. lower casing"
   ]
  },
  {
   "cell_type": "code",
   "execution_count": 13,
   "metadata": {},
   "outputs": [],
   "source": [
    "train['title'] = train['title'].str.lower()\n",
    "train['author'] = train['author'].str.lower()\n",
    "train['text'] = train['text'].str.lower()"
   ]
  },
  {
   "cell_type": "code",
   "execution_count": 14,
   "metadata": {},
   "outputs": [],
   "source": [
    "test['title'] = test['title'].str.lower()\n",
    "test['author'] = test['author'].str.lower()\n",
    "test['text'] = test['text'].str.lower()"
   ]
  },
  {
   "cell_type": "markdown",
   "metadata": {},
   "source": [
    "#### 2. punctuation and stop-word removal"
   ]
  },
  {
   "cell_type": "code",
   "execution_count": 15,
   "metadata": {},
   "outputs": [],
   "source": [
    "train['title'] = train['title'].str.replace(r\"[^A-Za-z0-9(),!?\\'\\`]\", \" \").astype('string')\n",
    "train['title'] = train['title'].str.replace(r\"\\'s\", \" \\'s\").astype('string')\n",
    "train['title'] = train['title'].str.replace(r\"\\'ve\", \" \\'ve\").astype('string')\n",
    "train['title'] = train['title'].str.replace(r\"n\\'t\", \" n\\'t\").astype('string')\n",
    "train['title'] = train['title'].str.replace(r\"\\'re\", \" \\'re\").astype('string')\n",
    "train['title'] = train['title'].str.replace(r\"\\'d\", \" \\'d\").astype('string')\n",
    "train['title'] = train['title'].str.replace(r\"\\'ll\", \" \\'ll\").astype('string')\n",
    "train['title'] = train['title'].str.replace(r\",\", \" , \").astype('string')\n",
    "train['title'] = train['title'].str.replace(r\"!\", \" ! \").astype('string')\n",
    "train['title'] = train['title'].str.replace(r\"\\(\", \" \\( \").astype('string')\n",
    "train['title'] = train['title'].str.replace(r\"\\)\", \" \\) \").astype('string')\n",
    "train['title'] = train['title'].str.replace(r\"\\?\", \" \\? \").astype('string')\n",
    "train['title'] = train['title'].str.replace(r\"\\s{2,}\", \" \").astype('string')"
   ]
  },
  {
   "cell_type": "code",
   "execution_count": 16,
   "metadata": {},
   "outputs": [],
   "source": [
    "train['text'] = train['text'].str.replace(r\"[^A-Za-z0-9(),!?\\'\\`]\", \" \").astype('string')\n",
    "train['text'] = train['text'].str.replace(r\"\\'s\", \" \\'s\").astype('string')\n",
    "train['text'] = train['text'].str.replace(r\"\\'ve\", \" \\'ve\").astype('string')\n",
    "train['text'] = train['text'].str.replace(r\"n\\'t\", \" n\\'t\").astype('string')\n",
    "train['text'] = train['text'].str.replace(r\"\\'re\", \" \\'re\").astype('string')\n",
    "train['text'] = train['text'].str.replace(r\"\\'d\", \" \\'d\").astype('string')\n",
    "train['text'] = train['text'].str.replace(r\"\\'ll\", \" \\'ll\").astype('string')\n",
    "train['text'] = train['text'].str.replace(r\",\", \" , \").astype('string')\n",
    "train['text'] = train['text'].str.replace(r\"!\", \" ! \").astype('string')\n",
    "train['text'] = train['text'].str.replace(r\"\\(\", \" \\( \").astype('string')\n",
    "train['text'] = train['text'].str.replace(r\"\\)\", \" \\) \").astype('string')\n",
    "train['text'] = train['text'].str.replace(r\"\\?\", \" \\? \").astype('string')\n",
    "train['text'] = train['text'].str.replace(r\"\\s{2,}\", \" \").astype('string')"
   ]
  },
  {
   "cell_type": "code",
   "execution_count": 17,
   "metadata": {},
   "outputs": [],
   "source": [
    "test['title'] = test['title'].str.replace(r\"[^A-Za-z0-9(),!?\\'\\`]\", \" \").astype('string')\n",
    "test['title'] = test['title'].str.replace(r\"\\'s\", \" \\'s\").astype('string')\n",
    "test['title'] = test['title'].str.replace(r\"\\'ve\", \" \\'ve\").astype('string')\n",
    "test['title'] = test['title'].str.replace(r\"n\\'t\", \" n\\'t\").astype('string')\n",
    "test['title'] = test['title'].str.replace(r\"\\'re\", \" \\'re\").astype('string')\n",
    "test['title'] = test['title'].str.replace(r\"\\'d\", \" \\'d\").astype('string')\n",
    "test['title'] = test['title'].str.replace(r\"\\'ll\", \" \\'ll\").astype('string')\n",
    "test['title'] = test['title'].str.replace(r\",\", \" , \").astype('string')\n",
    "test['title'] = test['title'].str.replace(r\"!\", \" ! \").astype('string')\n",
    "test['title'] = test['title'].str.replace(r\"\\(\", \" \\( \").astype('string')\n",
    "test['title'] = test['title'].str.replace(r\"\\)\", \" \\) \").astype('string')\n",
    "test['title'] = test['title'].str.replace(r\"\\?\", \" \\? \").astype('string')\n"
   ]
  },
  {
   "cell_type": "code",
   "execution_count": 18,
   "metadata": {},
   "outputs": [],
   "source": [
    "test['text'] = test['text'].str.replace(r\"[^A-Za-z0-9(),!?\\'\\`]\", \" \").astype('string')\n",
    "test['text'] = test['text'].str.replace(r\"\\'s\", \" \\'s\").astype('string')\n",
    "test['text'] = test['text'].str.replace(r\"\\'ve\", \" \\'ve\").astype('string')\n",
    "test['text'] = test['text'].str.replace(r\"n\\'t\", \" n\\'t\").astype('string')\n",
    "test['text'] = test['text'].str.replace(r\"\\'re\", \" \\'re\").astype('string')\n",
    "test['text'] = test['text'].str.replace(r\"\\'d\", \" \\'d\").astype('string')\n",
    "test['text'] = test['text'].str.replace(r\"\\'ll\", \" \\'ll\").astype('string')\n",
    "test['text'] = test['text'].str.replace(r\",\", \" , \").astype('string')\n",
    "test['text'] = test['text'].str.replace(r\"!\", \" ! \").astype('string')\n",
    "test['text'] = test['text'].str.replace(r\"\\(\", \" \\( \").astype('string')\n",
    "test['text'] = test['text'].str.replace(r\"\\)\", \" \\) \").astype('string')\n",
    "test['text'] = test['text'].str.replace(r\"\\?\", \" \\? \").astype('string')\n",
    "test['text'] = test['text'].str.replace(r\"\\s{2,}\", \" \").astype('string')"
   ]
  },
  {
   "cell_type": "code",
   "execution_count": 19,
   "metadata": {},
   "outputs": [],
   "source": [
    "stop_words = set(stopwords.words('english'))"
   ]
  },
  {
   "cell_type": "code",
   "execution_count": 20,
   "metadata": {},
   "outputs": [],
   "source": [
    "train['title'] = train['title'].apply(lambda x: \" \".join([item for item in x.split() if item not in stop_words]) if pd.notnull(x) else x)"
   ]
  },
  {
   "cell_type": "code",
   "execution_count": 21,
   "metadata": {},
   "outputs": [],
   "source": [
    "train['text'] = train['text'].apply(lambda x: \" \".join([item for item in x.split() if item not in stop_words]) if pd.notnull(x) else x)"
   ]
  },
  {
   "cell_type": "code",
   "execution_count": 22,
   "metadata": {},
   "outputs": [],
   "source": [
    "test['title'] = test['title'].apply(lambda x: \" \".join([item for item in x.split() if item not in stop_words]) if pd.notnull(x) else x)"
   ]
  },
  {
   "cell_type": "code",
   "execution_count": 23,
   "metadata": {},
   "outputs": [],
   "source": [
    "test['text'] = test['text'].apply(lambda x: \" \".join([item for item in x.split() if item not in stop_words]) if pd.notnull(x) else x)"
   ]
  },
  {
   "cell_type": "markdown",
   "metadata": {},
   "source": [
    "#### 3. stemming"
   ]
  },
  {
   "cell_type": "markdown",
   "metadata": {},
   "source": [
    "PorterStemmer - 변경해보기"
   ]
  },
  {
   "cell_type": "code",
   "execution_count": 24,
   "metadata": {},
   "outputs": [],
   "source": [
    "train['title'] = train['title'].apply(lambda x: \" \".join([PorterStemmer().stem(item) for item in x.split() if item not in stop_words]) if pd.notnull(x) else x)"
   ]
  },
  {
   "cell_type": "code",
   "execution_count": 25,
   "metadata": {},
   "outputs": [],
   "source": [
    "train['text'] = train['text'].apply(lambda x: \" \".join([PorterStemmer().stem(item) for item in x.split() if item not in stop_words]) if pd.notnull(x) else x)"
   ]
  },
  {
   "cell_type": "code",
   "execution_count": 26,
   "metadata": {},
   "outputs": [],
   "source": [
    "test['title'] = test['title'].apply(lambda x: \" \".join([PorterStemmer().stem(item) for item in x.split() if item not in stop_words]) if pd.notnull(x) else x)"
   ]
  },
  {
   "cell_type": "code",
   "execution_count": 27,
   "metadata": {},
   "outputs": [],
   "source": [
    "test['text'] = test['text'].apply(lambda x: \" \".join([PorterStemmer().stem(item) for item in x.split() if item not in stop_words]) if pd.notnull(x) else x)"
   ]
  },
  {
   "cell_type": "code",
   "execution_count": 28,
   "metadata": {},
   "outputs": [],
   "source": [
    "train.to_csv('data/fake-news/train_after_preprocessing.csv')"
   ]
  },
  {
   "cell_type": "code",
   "execution_count": 29,
   "metadata": {},
   "outputs": [],
   "source": [
    "test.to_csv('data/fake-news/test_after_preprocessing.csv')"
   ]
  },
  {
   "cell_type": "markdown",
   "metadata": {},
   "source": [
    "#### 4. tokenization"
   ]
  },
  {
   "cell_type": "code",
   "execution_count": 30,
   "metadata": {
    "scrolled": false
   },
   "outputs": [
    {
     "data": {
      "text/html": [
       "<div>\n",
       "<style scoped>\n",
       "    .dataframe tbody tr th:only-of-type {\n",
       "        vertical-align: middle;\n",
       "    }\n",
       "\n",
       "    .dataframe tbody tr th {\n",
       "        vertical-align: top;\n",
       "    }\n",
       "\n",
       "    .dataframe thead th {\n",
       "        text-align: right;\n",
       "    }\n",
       "</style>\n",
       "<table border=\"1\" class=\"dataframe\">\n",
       "  <thead>\n",
       "    <tr style=\"text-align: right;\">\n",
       "      <th></th>\n",
       "      <th>id</th>\n",
       "      <th>title</th>\n",
       "      <th>author</th>\n",
       "      <th>text</th>\n",
       "      <th>label</th>\n",
       "    </tr>\n",
       "  </thead>\n",
       "  <tbody>\n",
       "    <tr>\n",
       "      <th>0</th>\n",
       "      <td>0</td>\n",
       "      <td>hous dem aid even see comey letter jason chaff...</td>\n",
       "      <td>darrell lucus</td>\n",
       "      <td>hous dem aid even see comey letter jason chaff...</td>\n",
       "      <td>1</td>\n",
       "    </tr>\n",
       "    <tr>\n",
       "      <th>1</th>\n",
       "      <td>1</td>\n",
       "      <td>flynn hillari clinton , big woman campu breitbart</td>\n",
       "      <td>daniel j. flynn</td>\n",
       "      <td>ever get feel life circl roundabout rather hea...</td>\n",
       "      <td>0</td>\n",
       "    </tr>\n",
       "    <tr>\n",
       "      <th>2</th>\n",
       "      <td>2</td>\n",
       "      <td>truth might get fire</td>\n",
       "      <td>consortiumnews.com</td>\n",
       "      <td>truth might get fire octob 29 , 2016 tension i...</td>\n",
       "      <td>1</td>\n",
       "    </tr>\n",
       "    <tr>\n",
       "      <th>3</th>\n",
       "      <td>3</td>\n",
       "      <td>15 civilian kill singl us airstrik identifi</td>\n",
       "      <td>jessica purkiss</td>\n",
       "      <td>video 15 civilian kill singl us airstrik ident...</td>\n",
       "      <td>1</td>\n",
       "    </tr>\n",
       "    <tr>\n",
       "      <th>4</th>\n",
       "      <td>4</td>\n",
       "      <td>iranian woman jail fiction unpublish stori wom...</td>\n",
       "      <td>howard portnoy</td>\n",
       "      <td>print iranian woman sentenc six year prison ir...</td>\n",
       "      <td>1</td>\n",
       "    </tr>\n",
       "  </tbody>\n",
       "</table>\n",
       "</div>"
      ],
      "text/plain": [
       "   id                                              title              author  \\\n",
       "0   0  hous dem aid even see comey letter jason chaff...       darrell lucus   \n",
       "1   1  flynn hillari clinton , big woman campu breitbart     daniel j. flynn   \n",
       "2   2                               truth might get fire  consortiumnews.com   \n",
       "3   3        15 civilian kill singl us airstrik identifi     jessica purkiss   \n",
       "4   4  iranian woman jail fiction unpublish stori wom...      howard portnoy   \n",
       "\n",
       "                                                text  label  \n",
       "0  hous dem aid even see comey letter jason chaff...      1  \n",
       "1  ever get feel life circl roundabout rather hea...      0  \n",
       "2  truth might get fire octob 29 , 2016 tension i...      1  \n",
       "3  video 15 civilian kill singl us airstrik ident...      1  \n",
       "4  print iranian woman sentenc six year prison ir...      1  "
      ]
     },
     "execution_count": 30,
     "metadata": {},
     "output_type": "execute_result"
    }
   ],
   "source": [
    "train.head()"
   ]
  },
  {
   "cell_type": "code",
   "execution_count": 31,
   "metadata": {},
   "outputs": [],
   "source": [
    "X_text = train['text']\n",
    "X_author = train['author']\n",
    "y = train['label']"
   ]
  },
  {
   "cell_type": "code",
   "execution_count": 113,
   "metadata": {},
   "outputs": [],
   "source": [
    "tokenizer = Tokenizer(num_words=50000)\n",
    "tokenizer.fit_on_texts(X_text)\n",
    "text_tokenized = tokenizer.texts_to_sequences(X_text)\n",
    "author_tokenized = tokenizer.texts_to_sequences(X_author)"
   ]
  },
  {
   "cell_type": "code",
   "execution_count": 114,
   "metadata": {},
   "outputs": [
    {
     "data": {
      "text/plain": [
       "115797"
      ]
     },
     "execution_count": 114,
     "metadata": {},
     "output_type": "execute_result"
    }
   ],
   "source": [
    "word_to_index = tokenizer.word_index\n",
    "len(word_to_index)"
   ]
  },
  {
   "cell_type": "code",
   "execution_count": 115,
   "metadata": {},
   "outputs": [
    {
     "name": "stdout",
     "output_type": "stream",
     "text": [
      "기사의 최대 길이 : 12257\n",
      "기사의 평균 길이 : 424.586010\n"
     ]
    },
    {
     "data": {
      "image/png": "[encoded data removed]",
      "text/plain": [
       "<Figure size 432x288 with 1 Axes>"
      ]
     },
     "metadata": {
      "needs_background": "light"
     },
     "output_type": "display_data"
    }
   ],
   "source": [
    "print(\"기사의 최대 길이 : %d\" %(max(len(l) for l in text_tokenized)))\n",
    "print(\"기사의 평균 길이 : %f\" %(sum(map(len, text_tokenized))/len(text_tokenized)))\n",
    "\n",
    "plt.hist([len(s) for s in text_tokenized], bins=50)\n",
    "plt.xlabel('length of samples')\n",
    "plt.ylabel('number of samples')\n",
    "plt.show()"
   ]
  },
  {
   "cell_type": "markdown",
   "metadata": {},
   "source": [
    "padding size : 100 -> 변경해보기"
   ]
  },
  {
   "cell_type": "code",
   "execution_count": 116,
   "metadata": {},
   "outputs": [],
   "source": [
    "max_len_text = 100\n",
    "max_len_author = 2\n",
    "text_padded = pad_sequences(text_tokenized, maxlen=max_len_text)\n",
    "author_padded = pad_sequences(author_tokenized, maxlen=max_len_author)"
   ]
  },
  {
   "cell_type": "code",
   "execution_count": 117,
   "metadata": {},
   "outputs": [],
   "source": [
    "X_text_train, X_text_test, X_author_train, X_author_test, y_train, y_test = train_test_split(text_padded, author_padded, y, test_size=0.1, random_state=525)"
   ]
  },
  {
   "cell_type": "code",
   "execution_count": 118,
   "metadata": {},
   "outputs": [
    {
     "name": "stdout",
     "output_type": "stream",
     "text": [
      "18720 2080\n",
      "18720 2080\n",
      "18720 2080\n"
     ]
    }
   ],
   "source": [
    "print(len(X_text_train), len(X_text_test))\n",
    "print(len(X_author_train), len(X_author_test))\n",
    "print(len(y_train), len(y_test))"
   ]
  },
  {
   "cell_type": "markdown",
   "metadata": {},
   "source": [
    "## MODEL CONSTRUCTION"
   ]
  },
  {
   "cell_type": "markdown",
   "metadata": {},
   "source": [
    "### Text Part"
   ]
  },
  {
   "cell_type": "markdown",
   "metadata": {},
   "source": [
    "#### 1. Embedding"
   ]
  },
  {
   "cell_type": "code",
   "execution_count": 119,
   "metadata": {},
   "outputs": [],
   "source": [
    "# model1 = Sequential()"
   ]
  },
  {
   "cell_type": "code",
   "execution_count": 120,
   "metadata": {},
   "outputs": [],
   "source": [
    "text_input = Input(shape=(100))"
   ]
  },
  {
   "cell_type": "code",
   "execution_count": 121,
   "metadata": {},
   "outputs": [],
   "source": [
    "vocab_size = 50000\n",
    "output_dim = 100\n",
    "input_dim = max_len_text\n",
    "Embedding1 = Embedding(vocab_size, output_dim, input_length=input_dim)(text_input)"
   ]
  },
  {
   "cell_type": "code",
   "execution_count": 122,
   "metadata": {},
   "outputs": [],
   "source": [
    "# model1.summary()"
   ]
  },
  {
   "cell_type": "markdown",
   "metadata": {},
   "source": [
    "#### 2. Conv"
   ]
  },
  {
   "cell_type": "code",
   "execution_count": 123,
   "metadata": {},
   "outputs": [],
   "source": [
    "filter_num = 32\n",
    "filter_size = 5\n",
    "Conv1 = Conv1D(filter_num, filter_size, input_shape=(None, 100, 100), activation='elu', activity_regularizer='l2')(Embedding1)"
   ]
  },
  {
   "cell_type": "code",
   "execution_count": 124,
   "metadata": {},
   "outputs": [],
   "source": [
    "# model1.summary()"
   ]
  },
  {
   "cell_type": "markdown",
   "metadata": {},
   "source": [
    "#### 3. Maxpooling"
   ]
  },
  {
   "cell_type": "code",
   "execution_count": 125,
   "metadata": {},
   "outputs": [],
   "source": [
    "Maxpooling1 = MaxPool1D(pool_size=5)(Conv1)"
   ]
  },
  {
   "cell_type": "code",
   "execution_count": 126,
   "metadata": {},
   "outputs": [],
   "source": [
    "# model1.summary()"
   ]
  },
  {
   "cell_type": "code",
   "execution_count": 127,
   "metadata": {},
   "outputs": [],
   "source": [
    "Flatten1 = Flatten()(Maxpooling1)"
   ]
  },
  {
   "cell_type": "code",
   "execution_count": 128,
   "metadata": {},
   "outputs": [],
   "source": [
    "# model1.summary()"
   ]
  },
  {
   "cell_type": "markdown",
   "metadata": {},
   "source": [
    "### Author Part"
   ]
  },
  {
   "cell_type": "markdown",
   "metadata": {},
   "source": [
    "#### 1. Embedding"
   ]
  },
  {
   "cell_type": "code",
   "execution_count": 129,
   "metadata": {},
   "outputs": [],
   "source": [
    "# model2 = Sequential()"
   ]
  },
  {
   "cell_type": "code",
   "execution_count": 130,
   "metadata": {},
   "outputs": [],
   "source": [
    "author_input = Input(shape=(2))"
   ]
  },
  {
   "cell_type": "code",
   "execution_count": 131,
   "metadata": {},
   "outputs": [],
   "source": [
    "output_dim_author = 2\n",
    "input_dim_author = max_len_author\n",
    "Embedding2 = Embedding(vocab_size, output_dim_author, input_length=input_dim_author)(author_input)"
   ]
  },
  {
   "cell_type": "code",
   "execution_count": 132,
   "metadata": {},
   "outputs": [],
   "source": [
    "# model2.summary()"
   ]
  },
  {
   "cell_type": "markdown",
   "metadata": {},
   "source": [
    "#### 2. Conv"
   ]
  },
  {
   "cell_type": "code",
   "execution_count": 133,
   "metadata": {},
   "outputs": [],
   "source": [
    "filter_num = 32\n",
    "filter_size = 2\n",
    "Conv2 = Conv1D(filter_num, filter_size, input_shape=(None, 2, 2), activation='elu', activity_regularizer='l2')(Embedding2)"
   ]
  },
  {
   "cell_type": "code",
   "execution_count": 134,
   "metadata": {},
   "outputs": [],
   "source": [
    "# model2.summary()"
   ]
  },
  {
   "cell_type": "markdown",
   "metadata": {},
   "source": [
    "#### 3. Flatten"
   ]
  },
  {
   "cell_type": "code",
   "execution_count": 135,
   "metadata": {},
   "outputs": [],
   "source": [
    "Flatten2 = Flatten()(Conv2)"
   ]
  },
  {
   "cell_type": "code",
   "execution_count": 136,
   "metadata": {},
   "outputs": [],
   "source": [
    "# model2.summary()"
   ]
  },
  {
   "cell_type": "markdown",
   "metadata": {},
   "source": [
    "### Concatenate two models"
   ]
  },
  {
   "cell_type": "code",
   "execution_count": 137,
   "metadata": {},
   "outputs": [],
   "source": [
    "Concate = Concatenate()([Flatten1, Flatten2])"
   ]
  },
  {
   "cell_type": "code",
   "execution_count": 138,
   "metadata": {},
   "outputs": [],
   "source": [
    "output_layer = Dense(1, activation='sigmoid')(Concate)"
   ]
  },
  {
   "cell_type": "code",
   "execution_count": 139,
   "metadata": {},
   "outputs": [],
   "source": [
    "model = Model(inputs=[text_input, author_input], outputs=[output_layer])"
   ]
  },
  {
   "cell_type": "code",
   "execution_count": 140,
   "metadata": {},
   "outputs": [
    {
     "name": "stdout",
     "output_type": "stream",
     "text": [
      "Model: \"model_1\"\n",
      "__________________________________________________________________________________________________\n",
      "Layer (type)                    Output Shape         Param #     Connected to                     \n",
      "==================================================================================================\n",
      "input_4 (InputLayer)            [(None, 100)]        0                                            \n",
      "__________________________________________________________________________________________________\n",
      "embedding_7 (Embedding)         (None, 100, 100)     5000000     input_4[0][0]                    \n",
      "__________________________________________________________________________________________________\n",
      "input_5 (InputLayer)            [(None, 2)]          0                                            \n",
      "__________________________________________________________________________________________________\n",
      "conv1d_8 (Conv1D)               (None, 96, 32)       16032       embedding_7[0][0]                \n",
      "__________________________________________________________________________________________________\n",
      "embedding_8 (Embedding)         (None, 2, 2)         100000      input_5[0][0]                    \n",
      "__________________________________________________________________________________________________\n",
      "max_pooling1d_3 (MaxPooling1D)  (None, 19, 32)       0           conv1d_8[0][0]                   \n",
      "__________________________________________________________________________________________________\n",
      "conv1d_9 (Conv1D)               (None, 1, 32)        160         embedding_8[0][0]                \n",
      "__________________________________________________________________________________________________\n",
      "flatten_6 (Flatten)             (None, 608)          0           max_pooling1d_3[0][0]            \n",
      "__________________________________________________________________________________________________\n",
      "flatten_7 (Flatten)             (None, 32)           0           conv1d_9[0][0]                   \n",
      "__________________________________________________________________________________________________\n",
      "concatenate_6 (Concatenate)     (None, 640)          0           flatten_6[0][0]                  \n",
      "                                                                 flatten_7[0][0]                  \n",
      "__________________________________________________________________________________________________\n",
      "dense_4 (Dense)                 (None, 1)            641         concatenate_6[0][0]              \n",
      "==================================================================================================\n",
      "Total params: 5,116,833\n",
      "Trainable params: 5,116,833\n",
      "Non-trainable params: 0\n",
      "__________________________________________________________________________________________________\n"
     ]
    }
   ],
   "source": [
    "model.summary()"
   ]
  },
  {
   "cell_type": "code",
   "execution_count": 141,
   "metadata": {},
   "outputs": [],
   "source": [
    "model.compile( optimizer = 'rmsprop', loss = 'binary_crossentropy', metrics = [ 'acc' ] )"
   ]
  },
  {
   "cell_type": "code",
   "execution_count": 142,
   "metadata": {},
   "outputs": [
    {
     "name": "stdout",
     "output_type": "stream",
     "text": [
      "Train on 18720 samples\n",
      "Epoch 1/50\n",
      "18720/18720 [==============================] - 28s 1ms/sample - loss: 0.3129 - acc: 0.9072\n",
      "Epoch 2/50\n",
      "18720/18720 [==============================] - 27s 1ms/sample - loss: 0.0975 - acc: 0.9824\n",
      "Epoch 3/50\n",
      "18720/18720 [==============================] - 28s 2ms/sample - loss: 0.0616 - acc: 0.9901\n",
      "Epoch 4/50\n",
      "18720/18720 [==============================] - 32s 2ms/sample - loss: 0.0472 - acc: 0.9926\n",
      "Epoch 5/50\n",
      "18720/18720 [==============================] - 32s 2ms/sample - loss: 0.0375 - acc: 0.9952\n",
      "Epoch 6/50\n",
      "18720/18720 [==============================] - 33s 2ms/sample - loss: 0.0338 - acc: 0.9942\n",
      "Epoch 7/50\n",
      "18720/18720 [==============================] - 33s 2ms/sample - loss: 0.0314 - acc: 0.9948\n",
      "Epoch 8/50\n",
      "18720/18720 [==============================] - 37s 2ms/sample - loss: 0.0297 - acc: 0.9952\n",
      "Epoch 9/50\n",
      "18720/18720 [==============================] - 34s 2ms/sample - loss: 0.0273 - acc: 0.9955\n",
      "Epoch 10/50\n",
      "18720/18720 [==============================] - 33s 2ms/sample - loss: 0.0260 - acc: 0.9958\n",
      "Epoch 11/50\n",
      "18720/18720 [==============================] - 34s 2ms/sample - loss: 0.0250 - acc: 0.9960\n",
      "Epoch 12/50\n",
      "18720/18720 [==============================] - 35s 2ms/sample - loss: 0.0256 - acc: 0.9957\n",
      "Epoch 13/50\n",
      "18720/18720 [==============================] - 34s 2ms/sample - loss: 0.0240 - acc: 0.9963\n",
      "Epoch 14/50\n",
      "18720/18720 [==============================] - 32s 2ms/sample - loss: 0.0237 - acc: 0.9967\n",
      "Epoch 15/50\n",
      "18720/18720 [==============================] - 32s 2ms/sample - loss: 0.0253 - acc: 0.9954\n",
      "Epoch 16/50\n",
      "18720/18720 [==============================] - 36s 2ms/sample - loss: 0.0224 - acc: 0.9968\n",
      "Epoch 17/50\n",
      "18720/18720 [==============================] - 35s 2ms/sample - loss: 0.0234 - acc: 0.9965\n",
      "Epoch 18/50\n",
      "18720/18720 [==============================] - 35s 2ms/sample - loss: 0.0246 - acc: 0.9959\n",
      "Epoch 19/50\n",
      "18720/18720 [==============================] - 34s 2ms/sample - loss: 0.0246 - acc: 0.9962\n",
      "Epoch 20/50\n",
      "18720/18720 [==============================] - 33s 2ms/sample - loss: 0.0247 - acc: 0.9958\n",
      "Epoch 21/50\n",
      "18720/18720 [==============================] - 35s 2ms/sample - loss: 0.0234 - acc: 0.9960\n",
      "Epoch 22/50\n",
      "18720/18720 [==============================] - 36s 2ms/sample - loss: 0.0244 - acc: 0.9958\n",
      "Epoch 23/50\n",
      "18720/18720 [==============================] - 34s 2ms/sample - loss: 0.0244 - acc: 0.9961\n",
      "Epoch 24/50\n",
      "18720/18720 [==============================] - 34s 2ms/sample - loss: 0.0246 - acc: 0.9962\n",
      "Epoch 25/50\n",
      "18720/18720 [==============================] - 33s 2ms/sample - loss: 0.0239 - acc: 0.9962\n",
      "Epoch 26/50\n",
      "18720/18720 [==============================] - 34s 2ms/sample - loss: 0.0239 - acc: 0.9964\n",
      "Epoch 27/50\n",
      "18720/18720 [==============================] - 35s 2ms/sample - loss: 0.0251 - acc: 0.9963\n",
      "Epoch 28/50\n",
      "18720/18720 [==============================] - 36s 2ms/sample - loss: 0.0231 - acc: 0.9966\n",
      "Epoch 29/50\n",
      "18720/18720 [==============================] - 36s 2ms/sample - loss: 0.0232 - acc: 0.9965\n",
      "Epoch 30/50\n",
      "18720/18720 [==============================] - 33s 2ms/sample - loss: 0.0242 - acc: 0.9966\n",
      "Epoch 31/50\n",
      "18720/18720 [==============================] - 33s 2ms/sample - loss: 0.0248 - acc: 0.9959\n",
      "Epoch 32/50\n",
      "18720/18720 [==============================] - 33s 2ms/sample - loss: 0.0236 - acc: 0.9970\n",
      "Epoch 33/50\n",
      "18720/18720 [==============================] - 33s 2ms/sample - loss: 0.0247 - acc: 0.9965\n",
      "Epoch 34/50\n",
      "18720/18720 [==============================] - 33s 2ms/sample - loss: 0.0246 - acc: 0.9965\n",
      "Epoch 35/50\n",
      "18720/18720 [==============================] - 33s 2ms/sample - loss: 0.0251 - acc: 0.9960\n",
      "Epoch 36/50\n",
      "18720/18720 [==============================] - 33s 2ms/sample - loss: 0.0245 - acc: 0.9965\n",
      "Epoch 37/50\n",
      "18720/18720 [==============================] - 33s 2ms/sample - loss: 0.0237 - acc: 0.9966\n",
      "Epoch 38/50\n",
      "18720/18720 [==============================] - 34s 2ms/sample - loss: 0.0243 - acc: 0.9966\n",
      "Epoch 39/50\n",
      "18720/18720 [==============================] - 34s 2ms/sample - loss: 0.0250 - acc: 0.9962\n",
      "Epoch 40/50\n",
      "18720/18720 [==============================] - 34s 2ms/sample - loss: 0.0231 - acc: 0.9968\n",
      "Epoch 41/50\n",
      "18720/18720 [==============================] - 33s 2ms/sample - loss: 0.0262 - acc: 0.9962\n",
      "Epoch 42/50\n",
      "18720/18720 [==============================] - 34s 2ms/sample - loss: 0.0244 - acc: 0.9967\n",
      "Epoch 43/50\n",
      "18720/18720 [==============================] - 34s 2ms/sample - loss: 0.0243 - acc: 0.9965\n",
      "Epoch 44/50\n",
      "18720/18720 [==============================] - 33s 2ms/sample - loss: 0.0263 - acc: 0.9960\n",
      "Epoch 45/50\n",
      "18720/18720 [==============================] - 34s 2ms/sample - loss: 0.0248 - acc: 0.9966\n",
      "Epoch 46/50\n",
      "18720/18720 [==============================] - 33s 2ms/sample - loss: 0.0262 - acc: 0.9963\n",
      "Epoch 47/50\n",
      "18720/18720 [==============================] - 34s 2ms/sample - loss: 0.0257 - acc: 0.9963\n",
      "Epoch 48/50\n",
      "18720/18720 [==============================] - 33s 2ms/sample - loss: 0.0264 - acc: 0.9962\n",
      "Epoch 49/50\n",
      "18720/18720 [==============================] - 36s 2ms/sample - loss: 0.0245 - acc: 0.9973\n",
      "Epoch 50/50\n",
      "18720/18720 [==============================] - 33s 2ms/sample - loss: 0.0246 - acc: 0.9966\n"
     ]
    }
   ],
   "source": [
    "history = model.fit([X_text_train, X_author_train], y_train, epochs=50)"
   ]
  },
  {
   "cell_type": "code",
   "execution_count": 143,
   "metadata": {},
   "outputs": [
    {
     "name": "stdout",
     "output_type": "stream",
     "text": [
      "2080/2080 [==============================] - 0s 164us/sample - loss: 0.1393 - acc: 0.9673\n"
     ]
    }
   ],
   "source": [
    "results = model.evaluate([X_text_test, X_author_test], y_test)\n",
    "y_pred = model.predict([X_text_test, X_author_test])"
   ]
  },
  {
   "cell_type": "code",
   "execution_count": 147,
   "metadata": {},
   "outputs": [
    {
     "name": "stdout",
     "output_type": "stream",
     "text": [
      "              precision    recall  f1-score   support\n",
      "\n",
      "           0       0.98      0.95      0.97      1028\n",
      "           1       0.95      0.98      0.97      1052\n",
      "\n",
      "    accuracy                           0.97      2080\n",
      "   macro avg       0.97      0.97      0.97      2080\n",
      "weighted avg       0.97      0.97      0.97      2080\n",
      "\n"
     ]
    }
   ],
   "source": [
    "from sklearn.metrics import classification_report\n",
    "\n",
    "print(classification_report(y_test, y_pred.round()))"
   ]
  },
  {
   "cell_type": "code",
   "execution_count": null,
   "metadata": {},
   "outputs": [],
   "source": []
  }
 ],
 "metadata": {
  "kernelspec": {
   "display_name": "Python 3",
   "language": "python",
   "name": "python3"
  },
  "language_info": {
   "codemirror_mode": {
    "name": "ipython",
    "version": 3
   },
   "file_extension": ".py",
   "mimetype": "text/x-python",
   "name": "python",
   "nbconvert_exporter": "python",
   "pygments_lexer": "ipython3",
   "version": "3.7.6"
  }
 },
 "nbformat": 4,
 "nbformat_minor": 4
}
